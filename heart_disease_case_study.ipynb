{
 "cells": [
  {
   "cell_type": "markdown",
   "id": "886daf5c-122f-4cf5-aeb6-b2ec5a9f515b",
   "metadata": {},
   "source": [
    "### Description\n",
    "age: Age of the patient\n",
    "\n",
    "sex: Sex of the patient (1 = male, 0 = female)\n",
    "\n",
    "cp: Chest pain type (0 = typical angina, 1 = atypical angina, 2 = non-anginal pain, 3 = asymptomatic)\n",
    "\n",
    "trestbps: Resting blood pressure (in mm Hg)\n",
    "\n",
    "chol: Serum cholesterol in mg/dl\n",
    "\n",
    "fbs: Fasting blood sugar > 120 mg/dl (1 = true, 0 = false)\n",
    "\n",
    "restecg: Resting electrocardiographic results (0 = normal, 1 = having ST-T wave abnormality, 2 = showing probable or definite left ventricular hypertrophy)\n",
    "\n",
    "thalach: Maximum heart rate achieved\n",
    "\n",
    "exang: Exercise-induced angina (1 = yes, 0 = no)\n",
    "\n",
    "oldpeak: ST depression induced by exercise relative to rest\n",
    "\n",
    "slope: The slope of the peak exercise ST segment (0 = upsloping, 1 = flat, 2 = downsloping)\n",
    "\n",
    "ca: Number of major vessels (0-3) colored by fluoroscopy\n",
    "\n",
    "thal: Thalassemia (1 = normal, 2 = fixed defect, 3 = reversible defect)\n",
    "\n",
    "target: Diagnosis of heart disease (1 = presence, 0 = absence)"
   ]
  },
  {
   "cell_type": "code",
   "execution_count": 1,
   "id": "5bb0a5d5-9ad9-4792-aa10-5ca0d1c4099a",
   "metadata": {},
   "outputs": [],
   "source": [
    "import pandas as pd\n",
    "import numpy as np\n",
    "from sklearn.model_selection import train_test_split\n",
    "import matplotlib.pyplot as plt\n",
    "import warnings\n",
    "warnings.filterwarnings('ignore')\n",
    "from sklearn.preprocessing import OneHotEncoder\n",
    "from sklearn.preprocessing import MinMaxScaler\n",
    "from sklearn.linear_model import LinearRegression\n",
    "from sklearn.metrics import mean_squared_error, mean_absolute_error,r2_score\n",
    "from sklearn.linear_model import LogisticRegression\n",
    "from sklearn.neighbors import KNeighborsClassifier\n",
    "from sklearn.naive_bayes import GaussianNB\n",
    "from sklearn.metrics import accuracy_score, precision_score, recall_score,f1_score\n",
    "import psutil"
   ]
  },
  {
   "cell_type": "code",
   "execution_count": 2,
   "id": "214603ad-d8e0-467b-958a-91b8f73a3bb3",
   "metadata": {},
   "outputs": [],
   "source": [
    "data = pd.read_csv('heart_disease.csv')"
   ]
  },
  {
   "cell_type": "markdown",
   "id": "afee02cf-8c74-446b-a46a-bdea6f9335cf",
   "metadata": {},
   "source": [
    "# Exploratory Data Analysis"
   ]
  },
  {
   "cell_type": "code",
   "execution_count": 3,
   "id": "4b1920b8-eb46-441b-8032-b2ccdffa4123",
   "metadata": {},
   "outputs": [
    {
     "data": {
      "text/html": [
       "<div>\n",
       "<style scoped>\n",
       "    .dataframe tbody tr th:only-of-type {\n",
       "        vertical-align: middle;\n",
       "    }\n",
       "\n",
       "    .dataframe tbody tr th {\n",
       "        vertical-align: top;\n",
       "    }\n",
       "\n",
       "    .dataframe thead th {\n",
       "        text-align: right;\n",
       "    }\n",
       "</style>\n",
       "<table border=\"1\" class=\"dataframe\">\n",
       "  <thead>\n",
       "    <tr style=\"text-align: right;\">\n",
       "      <th></th>\n",
       "      <th>age</th>\n",
       "      <th>sex</th>\n",
       "      <th>cp</th>\n",
       "      <th>trestbps</th>\n",
       "      <th>chol</th>\n",
       "      <th>fbs</th>\n",
       "      <th>restecg</th>\n",
       "      <th>thalach</th>\n",
       "      <th>exang</th>\n",
       "      <th>oldpeak</th>\n",
       "      <th>slope</th>\n",
       "      <th>ca</th>\n",
       "      <th>thal</th>\n",
       "      <th>target</th>\n",
       "    </tr>\n",
       "  </thead>\n",
       "  <tbody>\n",
       "    <tr>\n",
       "      <th>0</th>\n",
       "      <td>52</td>\n",
       "      <td>1</td>\n",
       "      <td>0</td>\n",
       "      <td>125</td>\n",
       "      <td>212</td>\n",
       "      <td>0</td>\n",
       "      <td>1</td>\n",
       "      <td>168</td>\n",
       "      <td>0</td>\n",
       "      <td>1.0</td>\n",
       "      <td>2</td>\n",
       "      <td>2</td>\n",
       "      <td>3</td>\n",
       "      <td>0</td>\n",
       "    </tr>\n",
       "    <tr>\n",
       "      <th>1</th>\n",
       "      <td>53</td>\n",
       "      <td>1</td>\n",
       "      <td>0</td>\n",
       "      <td>140</td>\n",
       "      <td>203</td>\n",
       "      <td>1</td>\n",
       "      <td>0</td>\n",
       "      <td>155</td>\n",
       "      <td>1</td>\n",
       "      <td>3.1</td>\n",
       "      <td>0</td>\n",
       "      <td>0</td>\n",
       "      <td>3</td>\n",
       "      <td>0</td>\n",
       "    </tr>\n",
       "    <tr>\n",
       "      <th>2</th>\n",
       "      <td>70</td>\n",
       "      <td>1</td>\n",
       "      <td>0</td>\n",
       "      <td>145</td>\n",
       "      <td>174</td>\n",
       "      <td>0</td>\n",
       "      <td>1</td>\n",
       "      <td>125</td>\n",
       "      <td>1</td>\n",
       "      <td>2.6</td>\n",
       "      <td>0</td>\n",
       "      <td>0</td>\n",
       "      <td>3</td>\n",
       "      <td>0</td>\n",
       "    </tr>\n",
       "    <tr>\n",
       "      <th>3</th>\n",
       "      <td>61</td>\n",
       "      <td>1</td>\n",
       "      <td>0</td>\n",
       "      <td>148</td>\n",
       "      <td>203</td>\n",
       "      <td>0</td>\n",
       "      <td>1</td>\n",
       "      <td>161</td>\n",
       "      <td>0</td>\n",
       "      <td>0.0</td>\n",
       "      <td>2</td>\n",
       "      <td>1</td>\n",
       "      <td>3</td>\n",
       "      <td>0</td>\n",
       "    </tr>\n",
       "    <tr>\n",
       "      <th>4</th>\n",
       "      <td>62</td>\n",
       "      <td>0</td>\n",
       "      <td>0</td>\n",
       "      <td>138</td>\n",
       "      <td>294</td>\n",
       "      <td>1</td>\n",
       "      <td>1</td>\n",
       "      <td>106</td>\n",
       "      <td>0</td>\n",
       "      <td>1.9</td>\n",
       "      <td>1</td>\n",
       "      <td>3</td>\n",
       "      <td>2</td>\n",
       "      <td>0</td>\n",
       "    </tr>\n",
       "  </tbody>\n",
       "</table>\n",
       "</div>"
      ],
      "text/plain": [
       "   age  sex  cp  trestbps  chol  fbs  restecg  thalach  exang  oldpeak  slope  \\\n",
       "0   52    1   0       125   212    0        1      168      0      1.0      2   \n",
       "1   53    1   0       140   203    1        0      155      1      3.1      0   \n",
       "2   70    1   0       145   174    0        1      125      1      2.6      0   \n",
       "3   61    1   0       148   203    0        1      161      0      0.0      2   \n",
       "4   62    0   0       138   294    1        1      106      0      1.9      1   \n",
       "\n",
       "   ca  thal  target  \n",
       "0   2     3       0  \n",
       "1   0     3       0  \n",
       "2   0     3       0  \n",
       "3   1     3       0  \n",
       "4   3     2       0  "
      ]
     },
     "execution_count": 3,
     "metadata": {},
     "output_type": "execute_result"
    }
   ],
   "source": [
    "data.head()"
   ]
  },
  {
   "cell_type": "markdown",
   "id": "cbfe0796-44df-4778-93a7-94c00706ff94",
   "metadata": {},
   "source": [
    "### Remove duplicate columns"
   ]
  },
  {
   "cell_type": "code",
   "execution_count": 4,
   "id": "104fe9bd-2f8e-4542-b582-e9025cf02384",
   "metadata": {},
   "outputs": [
    {
     "data": {
      "text/plain": [
       "(1025, 14)"
      ]
     },
     "execution_count": 4,
     "metadata": {},
     "output_type": "execute_result"
    }
   ],
   "source": [
    "data.shape"
   ]
  },
  {
   "cell_type": "code",
   "execution_count": 5,
   "id": "a43de18c-858b-47b0-afb6-326662052e53",
   "metadata": {},
   "outputs": [
    {
     "name": "stdout",
     "output_type": "stream",
     "text": [
      "723\n"
     ]
    }
   ],
   "source": [
    "duplicated_rows = data.duplicated()\n",
    "print(duplicated_rows.sum())\n",
    "data.drop_duplicates(inplace = True)"
   ]
  },
  {
   "cell_type": "code",
   "execution_count": 6,
   "id": "31d4b24e-6b0b-4e8e-aa24-184b4af25659",
   "metadata": {},
   "outputs": [
    {
     "data": {
      "text/plain": [
       "(302, 14)"
      ]
     },
     "execution_count": 6,
     "metadata": {},
     "output_type": "execute_result"
    }
   ],
   "source": [
    "data.shape"
   ]
  },
  {
   "cell_type": "markdown",
   "id": "90613a47-b529-48dc-8d26-406aa7c24037",
   "metadata": {},
   "source": [
    "### Checking for missing values."
   ]
  },
  {
   "cell_type": "code",
   "execution_count": 7,
   "id": "3f1facfa-3f57-4181-b53e-567b4b3aeabb",
   "metadata": {},
   "outputs": [
    {
     "data": {
      "text/plain": [
       "age         0\n",
       "sex         0\n",
       "cp          0\n",
       "trestbps    0\n",
       "chol        0\n",
       "fbs         0\n",
       "restecg     0\n",
       "thalach     0\n",
       "exang       0\n",
       "oldpeak     0\n",
       "slope       0\n",
       "ca          0\n",
       "thal        0\n",
       "target      0\n",
       "dtype: int64"
      ]
     },
     "execution_count": 7,
     "metadata": {},
     "output_type": "execute_result"
    }
   ],
   "source": [
    "data.isna().sum()"
   ]
  },
  {
   "cell_type": "markdown",
   "id": "5c3667a0-4068-4135-986d-d78712e28294",
   "metadata": {},
   "source": [
    "There are no missing values in the dataset."
   ]
  },
  {
   "cell_type": "markdown",
   "id": "b951e474-b2cd-487b-9ffc-09ce80efeedf",
   "metadata": {},
   "source": [
    "### Datatypes"
   ]
  },
  {
   "cell_type": "code",
   "execution_count": 8,
   "id": "537fff98-84e7-4dd1-982e-954a7d7954b2",
   "metadata": {},
   "outputs": [
    {
     "name": "stdout",
     "output_type": "stream",
     "text": [
      "<class 'pandas.core.frame.DataFrame'>\n",
      "Index: 302 entries, 0 to 878\n",
      "Data columns (total 14 columns):\n",
      " #   Column    Non-Null Count  Dtype  \n",
      "---  ------    --------------  -----  \n",
      " 0   age       302 non-null    int64  \n",
      " 1   sex       302 non-null    int64  \n",
      " 2   cp        302 non-null    int64  \n",
      " 3   trestbps  302 non-null    int64  \n",
      " 4   chol      302 non-null    int64  \n",
      " 5   fbs       302 non-null    int64  \n",
      " 6   restecg   302 non-null    int64  \n",
      " 7   thalach   302 non-null    int64  \n",
      " 8   exang     302 non-null    int64  \n",
      " 9   oldpeak   302 non-null    float64\n",
      " 10  slope     302 non-null    int64  \n",
      " 11  ca        302 non-null    int64  \n",
      " 12  thal      302 non-null    int64  \n",
      " 13  target    302 non-null    int64  \n",
      "dtypes: float64(1), int64(13)\n",
      "memory usage: 35.4 KB\n"
     ]
    }
   ],
   "source": [
    "data.info()"
   ]
  },
  {
   "cell_type": "markdown",
   "id": "cbb48f2f-eaa9-45f0-8cdc-0c5ffaee8bb6",
   "metadata": {},
   "source": [
    "### Distinguish Categorical and Numerical Columns"
   ]
  },
  {
   "cell_type": "markdown",
   "id": "e872e380-9271-4ca5-b094-e10c3495430b",
   "metadata": {},
   "source": [
    "__age__: Age of the patient - __Numerical__\n",
    "\n",
    "__sex__: Sex of the patient (1 = male, 0 = female) - __Has only 2 values , hence no need for One Hot Encoding. - Numerical__\n",
    "\n",
    "__cp__: Chest pain type (0 = typical angina, 1 = atypical angina, 2 = non-anginal pain, 3 = asymptomatic) - __Categorical , needs One Hot Encoding.__\n",
    "\n",
    "__trestbps__: Resting blood pressure (in mm Hg) - __Numerical__\n",
    "\n",
    "__chol__: Serum cholesterol in mg/dl - __Numerical__\n",
    "\n",
    "__fbs__: Fasting blood sugar > 120 mg/dl (1 = true, 0 = false) - __Numerical__\n",
    "\n",
    "__restecg__: Resting electrocardiographic results (0 = normal, 1 = having ST-T wave abnormality, 2 = showing probable or definite left ventricular hypertrophy) - __Categorical. needs One Hot Encoding.__\n",
    "\n",
    "__thalach__: Maximum heart rate achieved - __Numerical__\n",
    "\n",
    "__exang__: Exercise-induced angina (1 = yes, 0 = no) - __Numerical__\n",
    "\n",
    "__oldpeak__: ST depression induced by exercise relative to rest - __Numerical__\n",
    "\n",
    "__slope__: The slope of the peak exercise ST segment (0 = upsloping, 1 = flat, 2 = downsloping) - __Categorical ,needs One Hot Encoding.__\n",
    "\n",
    "__ca__: Number of major vessels (0-3) colored by fluoroscopy - __Numerical.__\n",
    "\n",
    "__thal__: Thalassemia (1 = normal, 2 = fixed defect, 3 = reversible defect) - __Categorical, needs One Hot Encoding.__\n",
    "\n",
    "__target__: Diagnosis of heart disease (1 = presence, 0 = absence) - __Numerical.__"
   ]
  },
  {
   "cell_type": "markdown",
   "id": "276fe328-3269-4a80-bbbd-cc6c5e12497b",
   "metadata": {},
   "source": [
    "# Data Cleaning and Preprocessing"
   ]
  },
  {
   "cell_type": "markdown",
   "id": "f83a4f77-8362-4bb4-8622-d0a30533911b",
   "metadata": {},
   "source": [
    "### Splitting data into numerical and categorical columns"
   ]
  },
  {
   "cell_type": "code",
   "execution_count": 9,
   "id": "1fc7705a-6bc3-451b-a669-734a5a205f84",
   "metadata": {},
   "outputs": [],
   "source": [
    "num_df = data[['age','trestbps','chol','thalach','exang','oldpeak','ca','target']]\n",
    "cat_df = data[['sex','cp','fbs','restecg','slope','thal']]"
   ]
  },
  {
   "cell_type": "markdown",
   "id": "8293ee19-c4e0-4328-b678-b37740229bd4",
   "metadata": {},
   "source": [
    "### Outlier Analysis"
   ]
  },
  {
   "cell_type": "code",
   "execution_count": 10,
   "id": "62363644-8511-49c7-9e89-ab751419430c",
   "metadata": {},
   "outputs": [
    {
     "data": {
      "image/png": "[encoded data removed]",
      "text/plain": [
       "<Figure size 640x480 with 1 Axes>"
      ]
     },
     "metadata": {},
     "output_type": "display_data"
    }
   ],
   "source": [
    "plt.boxplot(num_df)\n",
    "plt.show()"
   ]
  },
  {
   "cell_type": "code",
   "execution_count": 11,
   "id": "58b25c4e-e429-47cb-a799-8d5376e84ab7",
   "metadata": {},
   "outputs": [],
   "source": [
    "def remove_outliers(df,column_name):\n",
    "    q1 = df[column_name].quantile(0.25)\n",
    "    q3 = df[column_name].quantile(0.75)\n",
    "    iqr = q3-q1\n",
    "    upper_bound = q3 + 1.5 * iqr\n",
    "    lower_bound = q1 - 1.5 * iqr\n",
    "    df[column_name] = df[column_name].clip(upper = upper_bound)\n",
    "    df[column_name] = df[column_name].clip(lower = lower_bound)\n",
    "    return df[column_name]"
   ]
  },
  {
   "cell_type": "code",
   "execution_count": 12,
   "id": "04cacae1-6de8-46e2-afc8-2343d7b90d8c",
   "metadata": {},
   "outputs": [],
   "source": [
    "num_cols = num_df.columns.tolist()\n",
    "for col in num_cols:\n",
    "    num_df[col] = remove_outliers(num_df,col)"
   ]
  },
  {
   "cell_type": "code",
   "execution_count": 13,
   "id": "960328bb-8a9f-49d8-9dc2-c373b6214ab2",
   "metadata": {},
   "outputs": [
    {
     "data": {
      "image/png": "[encoded data removed]",
      "text/plain": [
       "<Figure size 640x480 with 1 Axes>"
      ]
     },
     "metadata": {},
     "output_type": "display_data"
    }
   ],
   "source": [
    "plt.boxplot(num_df)\n",
    "plt.show()"
   ]
  },
  {
   "cell_type": "markdown",
   "id": "51abc49c-d826-492f-b55f-f2b5fe2d39b7",
   "metadata": {},
   "source": [
    "### Encoding Categorical Columns"
   ]
  },
  {
   "cell_type": "code",
   "execution_count": 14,
   "id": "676fb543-a289-421b-904a-c5e21c6ced42",
   "metadata": {},
   "outputs": [],
   "source": [
    "encoder = OneHotEncoder(handle_unknown = 'ignore',sparse_output = False)\n",
    "encoded_data = encoder.fit_transform(cat_df[['cp','restecg','slope','thal']])\n",
    "encoded_df = pd.DataFrame(encoded_data, columns=encoder.get_feature_names_out(['cp','restecg','slope','thal']))"
   ]
  },
  {
   "cell_type": "code",
   "execution_count": 15,
   "id": "d4bc586e-8196-4e0e-b530-5ac9dbf14c95",
   "metadata": {},
   "outputs": [
    {
     "data": {
      "text/html": [
       "<div>\n",
       "<style scoped>\n",
       "    .dataframe tbody tr th:only-of-type {\n",
       "        vertical-align: middle;\n",
       "    }\n",
       "\n",
       "    .dataframe tbody tr th {\n",
       "        vertical-align: top;\n",
       "    }\n",
       "\n",
       "    .dataframe thead th {\n",
       "        text-align: right;\n",
       "    }\n",
       "</style>\n",
       "<table border=\"1\" class=\"dataframe\">\n",
       "  <thead>\n",
       "    <tr style=\"text-align: right;\">\n",
       "      <th></th>\n",
       "      <th>cp_0</th>\n",
       "      <th>cp_1</th>\n",
       "      <th>cp_2</th>\n",
       "      <th>cp_3</th>\n",
       "      <th>restecg_0</th>\n",
       "      <th>restecg_1</th>\n",
       "      <th>restecg_2</th>\n",
       "      <th>slope_0</th>\n",
       "      <th>slope_1</th>\n",
       "      <th>slope_2</th>\n",
       "      <th>thal_0</th>\n",
       "      <th>thal_1</th>\n",
       "      <th>thal_2</th>\n",
       "      <th>thal_3</th>\n",
       "    </tr>\n",
       "  </thead>\n",
       "  <tbody>\n",
       "    <tr>\n",
       "      <th>0</th>\n",
       "      <td>1.0</td>\n",
       "      <td>0.0</td>\n",
       "      <td>0.0</td>\n",
       "      <td>0.0</td>\n",
       "      <td>0.0</td>\n",
       "      <td>1.0</td>\n",
       "      <td>0.0</td>\n",
       "      <td>0.0</td>\n",
       "      <td>0.0</td>\n",
       "      <td>1.0</td>\n",
       "      <td>0.0</td>\n",
       "      <td>0.0</td>\n",
       "      <td>0.0</td>\n",
       "      <td>1.0</td>\n",
       "    </tr>\n",
       "    <tr>\n",
       "      <th>1</th>\n",
       "      <td>1.0</td>\n",
       "      <td>0.0</td>\n",
       "      <td>0.0</td>\n",
       "      <td>0.0</td>\n",
       "      <td>1.0</td>\n",
       "      <td>0.0</td>\n",
       "      <td>0.0</td>\n",
       "      <td>1.0</td>\n",
       "      <td>0.0</td>\n",
       "      <td>0.0</td>\n",
       "      <td>0.0</td>\n",
       "      <td>0.0</td>\n",
       "      <td>0.0</td>\n",
       "      <td>1.0</td>\n",
       "    </tr>\n",
       "    <tr>\n",
       "      <th>2</th>\n",
       "      <td>1.0</td>\n",
       "      <td>0.0</td>\n",
       "      <td>0.0</td>\n",
       "      <td>0.0</td>\n",
       "      <td>0.0</td>\n",
       "      <td>1.0</td>\n",
       "      <td>0.0</td>\n",
       "      <td>1.0</td>\n",
       "      <td>0.0</td>\n",
       "      <td>0.0</td>\n",
       "      <td>0.0</td>\n",
       "      <td>0.0</td>\n",
       "      <td>0.0</td>\n",
       "      <td>1.0</td>\n",
       "    </tr>\n",
       "    <tr>\n",
       "      <th>3</th>\n",
       "      <td>1.0</td>\n",
       "      <td>0.0</td>\n",
       "      <td>0.0</td>\n",
       "      <td>0.0</td>\n",
       "      <td>0.0</td>\n",
       "      <td>1.0</td>\n",
       "      <td>0.0</td>\n",
       "      <td>0.0</td>\n",
       "      <td>0.0</td>\n",
       "      <td>1.0</td>\n",
       "      <td>0.0</td>\n",
       "      <td>0.0</td>\n",
       "      <td>0.0</td>\n",
       "      <td>1.0</td>\n",
       "    </tr>\n",
       "    <tr>\n",
       "      <th>4</th>\n",
       "      <td>1.0</td>\n",
       "      <td>0.0</td>\n",
       "      <td>0.0</td>\n",
       "      <td>0.0</td>\n",
       "      <td>0.0</td>\n",
       "      <td>1.0</td>\n",
       "      <td>0.0</td>\n",
       "      <td>0.0</td>\n",
       "      <td>1.0</td>\n",
       "      <td>0.0</td>\n",
       "      <td>0.0</td>\n",
       "      <td>0.0</td>\n",
       "      <td>1.0</td>\n",
       "      <td>0.0</td>\n",
       "    </tr>\n",
       "    <tr>\n",
       "      <th>...</th>\n",
       "      <td>...</td>\n",
       "      <td>...</td>\n",
       "      <td>...</td>\n",
       "      <td>...</td>\n",
       "      <td>...</td>\n",
       "      <td>...</td>\n",
       "      <td>...</td>\n",
       "      <td>...</td>\n",
       "      <td>...</td>\n",
       "      <td>...</td>\n",
       "      <td>...</td>\n",
       "      <td>...</td>\n",
       "      <td>...</td>\n",
       "      <td>...</td>\n",
       "    </tr>\n",
       "    <tr>\n",
       "      <th>297</th>\n",
       "      <td>0.0</td>\n",
       "      <td>0.0</td>\n",
       "      <td>1.0</td>\n",
       "      <td>0.0</td>\n",
       "      <td>1.0</td>\n",
       "      <td>0.0</td>\n",
       "      <td>0.0</td>\n",
       "      <td>0.0</td>\n",
       "      <td>1.0</td>\n",
       "      <td>0.0</td>\n",
       "      <td>0.0</td>\n",
       "      <td>0.0</td>\n",
       "      <td>1.0</td>\n",
       "      <td>0.0</td>\n",
       "    </tr>\n",
       "    <tr>\n",
       "      <th>298</th>\n",
       "      <td>0.0</td>\n",
       "      <td>0.0</td>\n",
       "      <td>1.0</td>\n",
       "      <td>0.0</td>\n",
       "      <td>0.0</td>\n",
       "      <td>1.0</td>\n",
       "      <td>0.0</td>\n",
       "      <td>0.0</td>\n",
       "      <td>1.0</td>\n",
       "      <td>0.0</td>\n",
       "      <td>0.0</td>\n",
       "      <td>0.0</td>\n",
       "      <td>1.0</td>\n",
       "      <td>0.0</td>\n",
       "    </tr>\n",
       "    <tr>\n",
       "      <th>299</th>\n",
       "      <td>1.0</td>\n",
       "      <td>0.0</td>\n",
       "      <td>0.0</td>\n",
       "      <td>0.0</td>\n",
       "      <td>0.0</td>\n",
       "      <td>1.0</td>\n",
       "      <td>0.0</td>\n",
       "      <td>0.0</td>\n",
       "      <td>0.0</td>\n",
       "      <td>1.0</td>\n",
       "      <td>0.0</td>\n",
       "      <td>0.0</td>\n",
       "      <td>0.0</td>\n",
       "      <td>1.0</td>\n",
       "    </tr>\n",
       "    <tr>\n",
       "      <th>300</th>\n",
       "      <td>0.0</td>\n",
       "      <td>0.0</td>\n",
       "      <td>0.0</td>\n",
       "      <td>1.0</td>\n",
       "      <td>1.0</td>\n",
       "      <td>0.0</td>\n",
       "      <td>0.0</td>\n",
       "      <td>0.0</td>\n",
       "      <td>0.0</td>\n",
       "      <td>1.0</td>\n",
       "      <td>0.0</td>\n",
       "      <td>0.0</td>\n",
       "      <td>1.0</td>\n",
       "      <td>0.0</td>\n",
       "    </tr>\n",
       "    <tr>\n",
       "      <th>301</th>\n",
       "      <td>1.0</td>\n",
       "      <td>0.0</td>\n",
       "      <td>0.0</td>\n",
       "      <td>0.0</td>\n",
       "      <td>0.0</td>\n",
       "      <td>1.0</td>\n",
       "      <td>0.0</td>\n",
       "      <td>0.0</td>\n",
       "      <td>1.0</td>\n",
       "      <td>0.0</td>\n",
       "      <td>0.0</td>\n",
       "      <td>0.0</td>\n",
       "      <td>0.0</td>\n",
       "      <td>1.0</td>\n",
       "    </tr>\n",
       "  </tbody>\n",
       "</table>\n",
       "<p>302 rows × 14 columns</p>\n",
       "</div>"
      ],
      "text/plain": [
       "     cp_0  cp_1  cp_2  cp_3  restecg_0  restecg_1  restecg_2  slope_0  \\\n",
       "0     1.0   0.0   0.0   0.0        0.0        1.0        0.0      0.0   \n",
       "1     1.0   0.0   0.0   0.0        1.0        0.0        0.0      1.0   \n",
       "2     1.0   0.0   0.0   0.0        0.0        1.0        0.0      1.0   \n",
       "3     1.0   0.0   0.0   0.0        0.0        1.0        0.0      0.0   \n",
       "4     1.0   0.0   0.0   0.0        0.0        1.0        0.0      0.0   \n",
       "..    ...   ...   ...   ...        ...        ...        ...      ...   \n",
       "297   0.0   0.0   1.0   0.0        1.0        0.0        0.0      0.0   \n",
       "298   0.0   0.0   1.0   0.0        0.0        1.0        0.0      0.0   \n",
       "299   1.0   0.0   0.0   0.0        0.0        1.0        0.0      0.0   \n",
       "300   0.0   0.0   0.0   1.0        1.0        0.0        0.0      0.0   \n",
       "301   1.0   0.0   0.0   0.0        0.0        1.0        0.0      0.0   \n",
       "\n",
       "     slope_1  slope_2  thal_0  thal_1  thal_2  thal_3  \n",
       "0        0.0      1.0     0.0     0.0     0.0     1.0  \n",
       "1        0.0      0.0     0.0     0.0     0.0     1.0  \n",
       "2        0.0      0.0     0.0     0.0     0.0     1.0  \n",
       "3        0.0      1.0     0.0     0.0     0.0     1.0  \n",
       "4        1.0      0.0     0.0     0.0     1.0     0.0  \n",
       "..       ...      ...     ...     ...     ...     ...  \n",
       "297      1.0      0.0     0.0     0.0     1.0     0.0  \n",
       "298      1.0      0.0     0.0     0.0     1.0     0.0  \n",
       "299      0.0      1.0     0.0     0.0     0.0     1.0  \n",
       "300      0.0      1.0     0.0     0.0     1.0     0.0  \n",
       "301      1.0      0.0     0.0     0.0     0.0     1.0  \n",
       "\n",
       "[302 rows x 14 columns]"
      ]
     },
     "execution_count": 15,
     "metadata": {},
     "output_type": "execute_result"
    }
   ],
   "source": [
    "encoded_df"
   ]
  },
  {
   "cell_type": "code",
   "execution_count": 16,
   "id": "23ca9e21-3588-4b4d-aed5-19b9d653bd24",
   "metadata": {},
   "outputs": [],
   "source": [
    "encoded_df.index = cat_df.index\n",
    "cat_df = pd.concat([encoded_df,cat_df],axis = 1)\n",
    "cat_df.drop(columns = ['cp','restecg','slope','thal'],inplace = True)"
   ]
  },
  {
   "cell_type": "code",
   "execution_count": 17,
   "id": "9c28c907-9988-4d55-a177-bd869e272c12",
   "metadata": {},
   "outputs": [
    {
     "data": {
      "text/plain": [
       "Index(['cp_0', 'cp_1', 'cp_2', 'cp_3', 'restecg_0', 'restecg_1', 'restecg_2',\n",
       "       'slope_0', 'slope_1', 'slope_2', 'thal_0', 'thal_1', 'thal_2', 'thal_3',\n",
       "       'sex', 'fbs'],\n",
       "      dtype='object')"
      ]
     },
     "execution_count": 17,
     "metadata": {},
     "output_type": "execute_result"
    }
   ],
   "source": [
    "cat_df.columns"
   ]
  },
  {
   "cell_type": "code",
   "execution_count": 18,
   "id": "f1c9b020-c813-4062-9ae3-4017aa471a68",
   "metadata": {},
   "outputs": [
    {
     "name": "stdout",
     "output_type": "stream",
     "text": [
      "<class 'pandas.core.frame.DataFrame'>\n",
      "Index: 302 entries, 0 to 878\n",
      "Data columns (total 16 columns):\n",
      " #   Column     Non-Null Count  Dtype  \n",
      "---  ------     --------------  -----  \n",
      " 0   cp_0       302 non-null    float64\n",
      " 1   cp_1       302 non-null    float64\n",
      " 2   cp_2       302 non-null    float64\n",
      " 3   cp_3       302 non-null    float64\n",
      " 4   restecg_0  302 non-null    float64\n",
      " 5   restecg_1  302 non-null    float64\n",
      " 6   restecg_2  302 non-null    float64\n",
      " 7   slope_0    302 non-null    float64\n",
      " 8   slope_1    302 non-null    float64\n",
      " 9   slope_2    302 non-null    float64\n",
      " 10  thal_0     302 non-null    float64\n",
      " 11  thal_1     302 non-null    float64\n",
      " 12  thal_2     302 non-null    float64\n",
      " 13  thal_3     302 non-null    float64\n",
      " 14  sex        302 non-null    int64  \n",
      " 15  fbs        302 non-null    int64  \n",
      "dtypes: float64(14), int64(2)\n",
      "memory usage: 40.1 KB\n"
     ]
    }
   ],
   "source": [
    "cat_df.info()"
   ]
  },
  {
   "cell_type": "code",
   "execution_count": 19,
   "id": "9ecbf8d4-a178-49a2-8651-31421330b29a",
   "metadata": {},
   "outputs": [
    {
     "data": {
      "text/plain": [
       "Index(['age', 'trestbps', 'chol', 'thalach', 'exang', 'oldpeak', 'ca',\n",
       "       'target'],\n",
       "      dtype='object')"
      ]
     },
     "execution_count": 19,
     "metadata": {},
     "output_type": "execute_result"
    }
   ],
   "source": [
    "num_df.columns"
   ]
  },
  {
   "cell_type": "markdown",
   "id": "568b1b31-cfb5-45af-95d2-9cdfcbac1426",
   "metadata": {},
   "source": [
    "### Scaling numerical columns"
   ]
  },
  {
   "cell_type": "code",
   "execution_count": 20,
   "id": "48a24b01-6587-4b1a-9223-ff4dbc6a183c",
   "metadata": {},
   "outputs": [],
   "source": [
    "scaler = MinMaxScaler()\n",
    "scaled_data = scaler.fit_transform(num_df[['trestbps','chol','thalach','oldpeak']])\n",
    "num_df_scaled = pd.DataFrame(scaled_data, columns=['trestbps','chol','thalach','oldpeak'])\n",
    "num_df.drop(columns = ['trestbps','chol','thalach','oldpeak'],inplace = True)\n",
    "num_df.index = num_df_scaled.index\n",
    "num_df = pd.concat([num_df,num_df_scaled],axis = 1)"
   ]
  },
  {
   "cell_type": "code",
   "execution_count": 21,
   "id": "92b27a8e-f1f0-4115-b6a3-edf4b9f77703",
   "metadata": {},
   "outputs": [
    {
     "data": {
      "text/plain": [
       "Index(['age', 'exang', 'ca', 'target', 'trestbps', 'chol', 'thalach',\n",
       "       'oldpeak'],\n",
       "      dtype='object')"
      ]
     },
     "execution_count": 21,
     "metadata": {},
     "output_type": "execute_result"
    }
   ],
   "source": [
    "num_df.columns"
   ]
  },
  {
   "cell_type": "code",
   "execution_count": 22,
   "id": "1b617553-ad73-42f4-b15e-606aace842a3",
   "metadata": {},
   "outputs": [
    {
     "data": {
      "text/html": [
       "<div>\n",
       "<style scoped>\n",
       "    .dataframe tbody tr th:only-of-type {\n",
       "        vertical-align: middle;\n",
       "    }\n",
       "\n",
       "    .dataframe tbody tr th {\n",
       "        vertical-align: top;\n",
       "    }\n",
       "\n",
       "    .dataframe thead th {\n",
       "        text-align: right;\n",
       "    }\n",
       "</style>\n",
       "<table border=\"1\" class=\"dataframe\">\n",
       "  <thead>\n",
       "    <tr style=\"text-align: right;\">\n",
       "      <th></th>\n",
       "      <th>age</th>\n",
       "      <th>exang</th>\n",
       "      <th>ca</th>\n",
       "      <th>target</th>\n",
       "      <th>trestbps</th>\n",
       "      <th>chol</th>\n",
       "      <th>thalach</th>\n",
       "      <th>oldpeak</th>\n",
       "    </tr>\n",
       "  </thead>\n",
       "  <tbody>\n",
       "    <tr>\n",
       "      <th>0</th>\n",
       "      <td>52</td>\n",
       "      <td>0</td>\n",
       "      <td>2.0</td>\n",
       "      <td>0</td>\n",
       "      <td>0.407895</td>\n",
       "      <td>0.351918</td>\n",
       "      <td>0.711559</td>\n",
       "      <td>0.250</td>\n",
       "    </tr>\n",
       "    <tr>\n",
       "      <th>1</th>\n",
       "      <td>53</td>\n",
       "      <td>1</td>\n",
       "      <td>0.0</td>\n",
       "      <td>0</td>\n",
       "      <td>0.605263</td>\n",
       "      <td>0.315090</td>\n",
       "      <td>0.601273</td>\n",
       "      <td>0.775</td>\n",
       "    </tr>\n",
       "    <tr>\n",
       "      <th>2</th>\n",
       "      <td>70</td>\n",
       "      <td>1</td>\n",
       "      <td>0.0</td>\n",
       "      <td>0</td>\n",
       "      <td>0.671053</td>\n",
       "      <td>0.196419</td>\n",
       "      <td>0.346766</td>\n",
       "      <td>0.650</td>\n",
       "    </tr>\n",
       "    <tr>\n",
       "      <th>3</th>\n",
       "      <td>61</td>\n",
       "      <td>0</td>\n",
       "      <td>1.0</td>\n",
       "      <td>0</td>\n",
       "      <td>0.710526</td>\n",
       "      <td>0.315090</td>\n",
       "      <td>0.652174</td>\n",
       "      <td>0.000</td>\n",
       "    </tr>\n",
       "    <tr>\n",
       "      <th>4</th>\n",
       "      <td>62</td>\n",
       "      <td>0</td>\n",
       "      <td>2.5</td>\n",
       "      <td>0</td>\n",
       "      <td>0.578947</td>\n",
       "      <td>0.687468</td>\n",
       "      <td>0.185578</td>\n",
       "      <td>0.475</td>\n",
       "    </tr>\n",
       "  </tbody>\n",
       "</table>\n",
       "</div>"
      ],
      "text/plain": [
       "   age  exang   ca  target  trestbps      chol   thalach  oldpeak\n",
       "0   52      0  2.0       0  0.407895  0.351918  0.711559    0.250\n",
       "1   53      1  0.0       0  0.605263  0.315090  0.601273    0.775\n",
       "2   70      1  0.0       0  0.671053  0.196419  0.346766    0.650\n",
       "3   61      0  1.0       0  0.710526  0.315090  0.652174    0.000\n",
       "4   62      0  2.5       0  0.578947  0.687468  0.185578    0.475"
      ]
     },
     "execution_count": 22,
     "metadata": {},
     "output_type": "execute_result"
    }
   ],
   "source": [
    "num_df.head()"
   ]
  },
  {
   "cell_type": "markdown",
   "id": "227e354c-a253-421b-ae4a-3f1d800dd86f",
   "metadata": {},
   "source": [
    "### Concatenating the scaled and encoded columns into one dataset"
   ]
  },
  {
   "cell_type": "code",
   "execution_count": 23,
   "id": "646c905a-1a89-4535-b0c1-baa0bf072632",
   "metadata": {},
   "outputs": [],
   "source": [
    "num_df.index = cat_df.index\n",
    "data_new = pd.concat([num_df,cat_df],axis =1)"
   ]
  },
  {
   "cell_type": "code",
   "execution_count": 24,
   "id": "4c205241-8262-4a4c-80d4-22433517ea6e",
   "metadata": {},
   "outputs": [
    {
     "data": {
      "text/html": [
       "<div>\n",
       "<style scoped>\n",
       "    .dataframe tbody tr th:only-of-type {\n",
       "        vertical-align: middle;\n",
       "    }\n",
       "\n",
       "    .dataframe tbody tr th {\n",
       "        vertical-align: top;\n",
       "    }\n",
       "\n",
       "    .dataframe thead th {\n",
       "        text-align: right;\n",
       "    }\n",
       "</style>\n",
       "<table border=\"1\" class=\"dataframe\">\n",
       "  <thead>\n",
       "    <tr style=\"text-align: right;\">\n",
       "      <th></th>\n",
       "      <th>age</th>\n",
       "      <th>exang</th>\n",
       "      <th>ca</th>\n",
       "      <th>target</th>\n",
       "      <th>trestbps</th>\n",
       "      <th>chol</th>\n",
       "      <th>thalach</th>\n",
       "      <th>oldpeak</th>\n",
       "      <th>cp_0</th>\n",
       "      <th>cp_1</th>\n",
       "      <th>...</th>\n",
       "      <th>restecg_2</th>\n",
       "      <th>slope_0</th>\n",
       "      <th>slope_1</th>\n",
       "      <th>slope_2</th>\n",
       "      <th>thal_0</th>\n",
       "      <th>thal_1</th>\n",
       "      <th>thal_2</th>\n",
       "      <th>thal_3</th>\n",
       "      <th>sex</th>\n",
       "      <th>fbs</th>\n",
       "    </tr>\n",
       "  </thead>\n",
       "  <tbody>\n",
       "    <tr>\n",
       "      <th>0</th>\n",
       "      <td>52</td>\n",
       "      <td>0</td>\n",
       "      <td>2.0</td>\n",
       "      <td>0</td>\n",
       "      <td>0.407895</td>\n",
       "      <td>0.351918</td>\n",
       "      <td>0.711559</td>\n",
       "      <td>0.250</td>\n",
       "      <td>1.0</td>\n",
       "      <td>0.0</td>\n",
       "      <td>...</td>\n",
       "      <td>0.0</td>\n",
       "      <td>0.0</td>\n",
       "      <td>0.0</td>\n",
       "      <td>1.0</td>\n",
       "      <td>0.0</td>\n",
       "      <td>0.0</td>\n",
       "      <td>0.0</td>\n",
       "      <td>1.0</td>\n",
       "      <td>1</td>\n",
       "      <td>0</td>\n",
       "    </tr>\n",
       "    <tr>\n",
       "      <th>1</th>\n",
       "      <td>53</td>\n",
       "      <td>1</td>\n",
       "      <td>0.0</td>\n",
       "      <td>0</td>\n",
       "      <td>0.605263</td>\n",
       "      <td>0.315090</td>\n",
       "      <td>0.601273</td>\n",
       "      <td>0.775</td>\n",
       "      <td>1.0</td>\n",
       "      <td>0.0</td>\n",
       "      <td>...</td>\n",
       "      <td>0.0</td>\n",
       "      <td>1.0</td>\n",
       "      <td>0.0</td>\n",
       "      <td>0.0</td>\n",
       "      <td>0.0</td>\n",
       "      <td>0.0</td>\n",
       "      <td>0.0</td>\n",
       "      <td>1.0</td>\n",
       "      <td>1</td>\n",
       "      <td>1</td>\n",
       "    </tr>\n",
       "    <tr>\n",
       "      <th>2</th>\n",
       "      <td>70</td>\n",
       "      <td>1</td>\n",
       "      <td>0.0</td>\n",
       "      <td>0</td>\n",
       "      <td>0.671053</td>\n",
       "      <td>0.196419</td>\n",
       "      <td>0.346766</td>\n",
       "      <td>0.650</td>\n",
       "      <td>1.0</td>\n",
       "      <td>0.0</td>\n",
       "      <td>...</td>\n",
       "      <td>0.0</td>\n",
       "      <td>1.0</td>\n",
       "      <td>0.0</td>\n",
       "      <td>0.0</td>\n",
       "      <td>0.0</td>\n",
       "      <td>0.0</td>\n",
       "      <td>0.0</td>\n",
       "      <td>1.0</td>\n",
       "      <td>1</td>\n",
       "      <td>0</td>\n",
       "    </tr>\n",
       "    <tr>\n",
       "      <th>3</th>\n",
       "      <td>61</td>\n",
       "      <td>0</td>\n",
       "      <td>1.0</td>\n",
       "      <td>0</td>\n",
       "      <td>0.710526</td>\n",
       "      <td>0.315090</td>\n",
       "      <td>0.652174</td>\n",
       "      <td>0.000</td>\n",
       "      <td>1.0</td>\n",
       "      <td>0.0</td>\n",
       "      <td>...</td>\n",
       "      <td>0.0</td>\n",
       "      <td>0.0</td>\n",
       "      <td>0.0</td>\n",
       "      <td>1.0</td>\n",
       "      <td>0.0</td>\n",
       "      <td>0.0</td>\n",
       "      <td>0.0</td>\n",
       "      <td>1.0</td>\n",
       "      <td>1</td>\n",
       "      <td>0</td>\n",
       "    </tr>\n",
       "    <tr>\n",
       "      <th>4</th>\n",
       "      <td>62</td>\n",
       "      <td>0</td>\n",
       "      <td>2.5</td>\n",
       "      <td>0</td>\n",
       "      <td>0.578947</td>\n",
       "      <td>0.687468</td>\n",
       "      <td>0.185578</td>\n",
       "      <td>0.475</td>\n",
       "      <td>1.0</td>\n",
       "      <td>0.0</td>\n",
       "      <td>...</td>\n",
       "      <td>0.0</td>\n",
       "      <td>0.0</td>\n",
       "      <td>1.0</td>\n",
       "      <td>0.0</td>\n",
       "      <td>0.0</td>\n",
       "      <td>0.0</td>\n",
       "      <td>1.0</td>\n",
       "      <td>0.0</td>\n",
       "      <td>0</td>\n",
       "      <td>1</td>\n",
       "    </tr>\n",
       "  </tbody>\n",
       "</table>\n",
       "<p>5 rows × 24 columns</p>\n",
       "</div>"
      ],
      "text/plain": [
       "   age  exang   ca  target  trestbps      chol   thalach  oldpeak  cp_0  cp_1  \\\n",
       "0   52      0  2.0       0  0.407895  0.351918  0.711559    0.250   1.0   0.0   \n",
       "1   53      1  0.0       0  0.605263  0.315090  0.601273    0.775   1.0   0.0   \n",
       "2   70      1  0.0       0  0.671053  0.196419  0.346766    0.650   1.0   0.0   \n",
       "3   61      0  1.0       0  0.710526  0.315090  0.652174    0.000   1.0   0.0   \n",
       "4   62      0  2.5       0  0.578947  0.687468  0.185578    0.475   1.0   0.0   \n",
       "\n",
       "   ...  restecg_2  slope_0  slope_1  slope_2  thal_0  thal_1  thal_2  thal_3  \\\n",
       "0  ...        0.0      0.0      0.0      1.0     0.0     0.0     0.0     1.0   \n",
       "1  ...        0.0      1.0      0.0      0.0     0.0     0.0     0.0     1.0   \n",
       "2  ...        0.0      1.0      0.0      0.0     0.0     0.0     0.0     1.0   \n",
       "3  ...        0.0      0.0      0.0      1.0     0.0     0.0     0.0     1.0   \n",
       "4  ...        0.0      0.0      1.0      0.0     0.0     0.0     1.0     0.0   \n",
       "\n",
       "   sex  fbs  \n",
       "0    1    0  \n",
       "1    1    1  \n",
       "2    1    0  \n",
       "3    1    0  \n",
       "4    0    1  \n",
       "\n",
       "[5 rows x 24 columns]"
      ]
     },
     "execution_count": 24,
     "metadata": {},
     "output_type": "execute_result"
    }
   ],
   "source": [
    "data_new.head()"
   ]
  },
  {
   "cell_type": "markdown",
   "id": "98cde6f5-67cf-446b-a6e1-3046c2d8bf5c",
   "metadata": {},
   "source": [
    "# Regression"
   ]
  },
  {
   "cell_type": "code",
   "execution_count": 25,
   "id": "4c2128db-238b-4978-85fc-6b1d2ef97c77",
   "metadata": {},
   "outputs": [],
   "source": [
    "X = data_new.drop(columns = ['chol'])\n",
    "y = data_new['chol']"
   ]
  },
  {
   "cell_type": "code",
   "execution_count": 26,
   "id": "3709d29c-b985-4403-a328-0a546f5c0f6d",
   "metadata": {},
   "outputs": [],
   "source": [
    "X_train,X_test,y_train,y_test = train_test_split(X,y)"
   ]
  },
  {
   "cell_type": "code",
   "execution_count": 27,
   "id": "223034ca-9bc9-4be4-81fe-8364449d1be6",
   "metadata": {},
   "outputs": [],
   "source": [
    "lin_reg = LinearRegression()\n",
    "lin_reg.fit(X_train,y_train)\n",
    "y_pred = lin_reg.predict(X_test)"
   ]
  },
  {
   "cell_type": "code",
   "execution_count": 28,
   "id": "4bdb7e39-fb1f-4c1c-bc09-74175f37aa55",
   "metadata": {},
   "outputs": [
    {
     "name": "stdout",
     "output_type": "stream",
     "text": [
      "Mean Absolute Error is  0.1755145511845494\n",
      "Mean Squared Error is  0.044629625655053844\n",
      "R2 score is  -0.16401000201440685\n"
     ]
    }
   ],
   "source": [
    "print('Mean Absolute Error is ',mean_absolute_error(y_test,y_pred))\n",
    "print('Mean Squared Error is ',mean_squared_error(y_test,y_pred))\n",
    "print('R2 score is ',r2_score(y_test,y_pred))"
   ]
  },
  {
   "cell_type": "markdown",
   "id": "5917e16c-3308-4e95-be73-b6c9cda363bc",
   "metadata": {},
   "source": [
    "# Classification"
   ]
  },
  {
   "cell_type": "code",
   "execution_count": 29,
   "id": "4dfd6430-e238-4dc1-8c11-5c0692acc7d6",
   "metadata": {},
   "outputs": [],
   "source": [
    "X = data_new.drop(columns = ['target'])\n",
    "y = data_new['target']"
   ]
  },
  {
   "cell_type": "code",
   "execution_count": 30,
   "id": "beb98230-e90e-4a31-867a-2399cd84547f",
   "metadata": {},
   "outputs": [],
   "source": [
    "X_train,X_test,y_train,y_test = train_test_split(X,y)"
   ]
  },
  {
   "cell_type": "code",
   "execution_count": 31,
   "id": "e76bcb57-228c-4cb5-8a89-58ea31960424",
   "metadata": {},
   "outputs": [
    {
     "name": "stdout",
     "output_type": "stream",
     "text": [
      "Accuracy is  0.8552631578947368\n",
      "Precision score  0.8536585365853658\n",
      "Recall is  0.875\n",
      "f1_score is  0.8641975308641975\n"
     ]
    }
   ],
   "source": [
    "logistic_model = LogisticRegression()\n",
    "logistic_model.fit(X_train,y_train)\n",
    "y_pred = logistic_model.predict(X_test)\n",
    "print('Accuracy is ', accuracy_score(y_test,y_pred) )\n",
    "print('Precision score ', precision_score(y_test,y_pred))\n",
    "print('Recall is ',recall_score(y_test,y_pred))\n",
    "print('f1_score is ',f1_score(y_test,y_pred))"
   ]
  },
  {
   "cell_type": "code",
   "execution_count": 34,
   "id": "660fc2b3-951b-4f7f-b069-4c6f356d0f3b",
   "metadata": {
    "scrolled": true
   },
   "outputs": [
    {
     "name": "stdout",
     "output_type": "stream",
     "text": [
      "Accuracy is  0.7894736842105263\n",
      "Precision score  0.7727272727272727\n",
      "Recall is  0.85\n",
      "f1_score is  0.8095238095238095\n"
     ]
    }
   ],
   "source": [
    "knn_model = KNeighborsClassifier(n_jobs = -1)\n",
    "knn_model.fit(X_train,y_train)\n",
    "y_pred = knn_model.predict(X_test)\n",
    "print('Accuracy is ', accuracy_score(y_test,y_pred) )\n",
    "print('Precision score ', precision_score(y_test,y_pred))\n",
    "print('Recall is ',recall_score(y_test,y_pred))\n",
    "print('f1_score is ',f1_score(y_test,y_pred))"
   ]
  },
  {
   "cell_type": "code",
   "execution_count": 33,
   "id": "1fabd27d-9b34-4aac-8137-0b64a2920122",
   "metadata": {},
   "outputs": [
    {
     "name": "stdout",
     "output_type": "stream",
     "text": [
      "Accuracy is  0.75\n",
      "Precision score  0.7142857142857143\n",
      "Recall is  0.875\n",
      "f1_score is  0.7865168539325843\n"
     ]
    }
   ],
   "source": [
    "nb_model = GaussianNB()\n",
    "nb_model.fit(X_train,y_train)\n",
    "y_pred = nb_model.predict(X_test)\n",
    "print('Accuracy is ', accuracy_score(y_test,y_pred) )\n",
    "print('Precision score ', precision_score(y_test,y_pred))\n",
    "print('Recall is ',recall_score(y_test,y_pred))\n",
    "print('f1_score is ',f1_score(y_test,y_pred))"
   ]
  },
  {
   "cell_type": "code",
   "execution_count": null,
   "id": "655cdb6b-367e-4af4-b7eb-80713a61a555",
   "metadata": {},
   "outputs": [],
   "source": []
  }
 ],
 "metadata": {
  "kernelspec": {
   "display_name": "Python 3 (ipykernel)",
   "language": "python",
   "name": "python3"
  },
  "language_info": {
   "codemirror_mode": {
    "name": "ipython",
    "version": 3
   },
   "file_extension": ".py",
   "mimetype": "text/x-python",
   "name": "python",
   "nbconvert_exporter": "python",
   "pygments_lexer": "ipython3",
   "version": "3.13.2"
  }
 },
 "nbformat": 4,
 "nbformat_minor": 5
}
